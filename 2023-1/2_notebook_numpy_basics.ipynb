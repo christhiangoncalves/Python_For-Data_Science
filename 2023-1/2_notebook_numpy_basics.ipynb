{
 "cells": [
  {
   "cell_type": "markdown",
   "metadata": {},
   "source": [
    "# Numpy Basics"
   ]
  },
  {
   "cell_type": "code",
   "execution_count": 6,
   "metadata": {},
   "outputs": [
    {
     "data": {
      "text/plain": [
       "'1.24.2'"
      ]
     },
     "execution_count": 6,
     "metadata": {},
     "output_type": "execute_result"
    }
   ],
   "source": [
    "import numpy\n",
    "numpy.__version__"
   ]
  },
  {
   "cell_type": "code",
   "execution_count": 7,
   "metadata": {},
   "outputs": [],
   "source": [
    "import numpy as np"
   ]
  },
  {
   "cell_type": "code",
   "execution_count": 8,
   "metadata": {},
   "outputs": [
    {
     "name": "stdout",
     "output_type": "stream",
     "text": [
      "\u001b[1;31mType:\u001b[0m        module\n",
      "\u001b[1;31mString form:\u001b[0m <module 'numpy' from 'c:\\\\Users\\\\rcpsi\\\\AppData\\\\Local\\\\Programs\\\\Python\\\\Python311\\\\Lib\\\\site-packages\\\\numpy\\\\__init__.py'>\n",
      "\u001b[1;31mFile:\u001b[0m        c:\\users\\rcpsi\\appdata\\local\\programs\\python\\python311\\lib\\site-packages\\numpy\\__init__.py\n",
      "\u001b[1;31mDocstring:\u001b[0m  \n",
      "NumPy\n",
      "=====\n",
      "\n",
      "Provides\n",
      "  1. An array object of arbitrary homogeneous items\n",
      "  2. Fast mathematical operations over arrays\n",
      "  3. Linear Algebra, Fourier Transforms, Random Number Generation\n",
      "\n",
      "How to use the documentation\n",
      "----------------------------\n",
      "Documentation is available in two forms: docstrings provided\n",
      "with the code, and a loose standing reference guide, available from\n",
      "`the NumPy homepage <https://numpy.org>`_.\n",
      "\n",
      "We recommend exploring the docstrings using\n",
      "`IPython <https://ipython.org>`_, an advanced Python shell with\n",
      "TAB-completion and introspection capabilities.  See below for further\n",
      "instructions.\n",
      "\n",
      "The docstring examples assume that `numpy` has been imported as ``np``::\n",
      "\n",
      "  >>> import numpy as np\n",
      "\n",
      "Code snippets are indicated by three greater-than signs::\n",
      "\n",
      "  >>> x = 42\n",
      "  >>> x = x + 1\n",
      "\n",
      "Use the built-in ``help`` function to view a function's docstring::\n",
      "\n",
      "  >>> help(np.sort)\n",
      "  ... # doctest: +SKIP\n",
      "\n",
      "For some objects, ``np.info(obj)`` may provide additional help.  This is\n",
      "particularly true if you see the line \"Help on ufunc object:\" at the top\n",
      "of the help() page.  Ufuncs are implemented in C, not Python, for speed.\n",
      "The native Python help() does not know how to view their help, but our\n",
      "np.info() function does.\n",
      "\n",
      "To search for documents containing a keyword, do::\n",
      "\n",
      "  >>> np.lookfor('keyword')\n",
      "  ... # doctest: +SKIP\n",
      "\n",
      "General-purpose documents like a glossary and help on the basic concepts\n",
      "of numpy are available under the ``doc`` sub-module::\n",
      "\n",
      "  >>> from numpy import doc\n",
      "  >>> help(doc)\n",
      "  ... # doctest: +SKIP\n",
      "\n",
      "Available subpackages\n",
      "---------------------\n",
      "lib\n",
      "    Basic functions used by several sub-packages.\n",
      "random\n",
      "    Core Random Tools\n",
      "linalg\n",
      "    Core Linear Algebra Tools\n",
      "fft\n",
      "    Core FFT routines\n",
      "polynomial\n",
      "    Polynomial tools\n",
      "testing\n",
      "    NumPy testing tools\n",
      "distutils\n",
      "    Enhancements to distutils with support for\n",
      "    Fortran compilers support and more.\n",
      "\n",
      "Utilities\n",
      "---------\n",
      "test\n",
      "    Run numpy unittests\n",
      "show_config\n",
      "    Show numpy build configuration\n",
      "dual\n",
      "    Overwrite certain functions with high-performance SciPy tools.\n",
      "    Note: `numpy.dual` is deprecated.  Use the functions from NumPy or Scipy\n",
      "    directly instead of importing them from `numpy.dual`.\n",
      "matlib\n",
      "    Make everything matrices.\n",
      "__version__\n",
      "    NumPy version string\n",
      "\n",
      "Viewing documentation using IPython\n",
      "-----------------------------------\n",
      "\n",
      "Start IPython and import `numpy` usually under the alias ``np``: `import\n",
      "numpy as np`.  Then, directly past or use the ``%cpaste`` magic to paste\n",
      "examples into the shell.  To see which functions are available in `numpy`,\n",
      "type ``np.<TAB>`` (where ``<TAB>`` refers to the TAB key), or use\n",
      "``np.*cos*?<ENTER>`` (where ``<ENTER>`` refers to the ENTER key) to narrow\n",
      "down the list.  To view the docstring for a function, use\n",
      "``np.cos?<ENTER>`` (to view the docstring) and ``np.cos??<ENTER>`` (to view\n",
      "the source code).\n",
      "\n",
      "Copies vs. in-place operation\n",
      "-----------------------------\n",
      "Most of the functions in `numpy` return a copy of the array argument\n",
      "(e.g., `np.sort`).  In-place versions of these functions are often\n",
      "available as array methods, i.e. ``x = np.array([1,2,3]); x.sort()``.\n",
      "Exceptions to this rule are documented."
     ]
    }
   ],
   "source": [
    "np?"
   ]
  },
  {
   "cell_type": "code",
   "execution_count": 10,
   "metadata": {},
   "outputs": [],
   "source": [
    "x = [1,4,2,5,3]"
   ]
  },
  {
   "cell_type": "code",
   "execution_count": 12,
   "metadata": {},
   "outputs": [
    {
     "data": {
      "text/plain": [
       "int"
      ]
     },
     "execution_count": 12,
     "metadata": {},
     "output_type": "execute_result"
    }
   ],
   "source": [
    "type(x[0])"
   ]
  },
  {
   "cell_type": "code",
   "execution_count": 22,
   "metadata": {},
   "outputs": [],
   "source": [
    "x = np.array(x,dtype='int16')"
   ]
  },
  {
   "cell_type": "code",
   "execution_count": 23,
   "metadata": {},
   "outputs": [
    {
     "data": {
      "text/plain": [
       "array([1, 4, 2, 5, 3], dtype=int16)"
      ]
     },
     "execution_count": 23,
     "metadata": {},
     "output_type": "execute_result"
    }
   ],
   "source": [
    "x"
   ]
  },
  {
   "cell_type": "code",
   "execution_count": 24,
   "metadata": {},
   "outputs": [
    {
     "data": {
      "text/plain": [
       "numpy.ndarray"
      ]
     },
     "execution_count": 24,
     "metadata": {},
     "output_type": "execute_result"
    }
   ],
   "source": [
    "type(x)"
   ]
  },
  {
   "cell_type": "code",
   "execution_count": 25,
   "metadata": {},
   "outputs": [
    {
     "data": {
      "text/plain": [
       "numpy.int16"
      ]
     },
     "execution_count": 25,
     "metadata": {},
     "output_type": "execute_result"
    }
   ],
   "source": [
    "type(x[0])"
   ]
  },
  {
   "cell_type": "code",
   "execution_count": 26,
   "metadata": {},
   "outputs": [],
   "source": [
    "x = np.array([3.14,4,2,3])"
   ]
  },
  {
   "cell_type": "code",
   "execution_count": 27,
   "metadata": {},
   "outputs": [
    {
     "data": {
      "text/plain": [
       "numpy.float64"
      ]
     },
     "execution_count": 27,
     "metadata": {},
     "output_type": "execute_result"
    }
   ],
   "source": [
    "type(x[1])"
   ]
  },
  {
   "cell_type": "code",
   "execution_count": 28,
   "metadata": {},
   "outputs": [],
   "source": [
    "x = np.array([3.14,4,2,3],'float32')"
   ]
  },
  {
   "cell_type": "code",
   "execution_count": 29,
   "metadata": {},
   "outputs": [
    {
     "data": {
      "text/plain": [
       "numpy.float32"
      ]
     },
     "execution_count": 29,
     "metadata": {},
     "output_type": "execute_result"
    }
   ],
   "source": [
    "type(x[0])"
   ]
  },
  {
   "attachments": {},
   "cell_type": "markdown",
   "metadata": {},
   "source": [
    "## Pre-allocation"
   ]
  },
  {
   "cell_type": "code",
   "execution_count": 30,
   "metadata": {},
   "outputs": [],
   "source": [
    "x = np.zeros(10,dtype=int)"
   ]
  },
  {
   "cell_type": "code",
   "execution_count": 31,
   "metadata": {},
   "outputs": [
    {
     "data": {
      "text/plain": [
       "array([0, 0, 0, 0, 0, 0, 0, 0, 0, 0])"
      ]
     },
     "execution_count": 31,
     "metadata": {},
     "output_type": "execute_result"
    }
   ],
   "source": [
    "x"
   ]
  },
  {
   "cell_type": "code",
   "execution_count": 40,
   "metadata": {},
   "outputs": [
    {
     "data": {
      "text/plain": [
       "array([[1., 1., 1., 1.],\n",
       "       [1., 1., 1., 1.],\n",
       "       [1., 1., 1., 1.]])"
      ]
     },
     "execution_count": 40,
     "metadata": {},
     "output_type": "execute_result"
    }
   ],
   "source": [
    "x = np.ones((3,4),dtype=float)\n",
    "x"
   ]
  },
  {
   "cell_type": "code",
   "execution_count": 41,
   "metadata": {},
   "outputs": [
    {
     "data": {
      "text/plain": [
       "array([[3.14, 3.14, 3.14, 3.14],\n",
       "       [3.14, 3.14, 3.14, 3.14],\n",
       "       [3.14, 3.14, 3.14, 3.14]])"
      ]
     },
     "execution_count": 41,
     "metadata": {},
     "output_type": "execute_result"
    }
   ],
   "source": [
    "x = np.full((3,4),3.14)\n",
    "x"
   ]
  },
  {
   "cell_type": "code",
   "execution_count": 42,
   "metadata": {},
   "outputs": [
    {
     "data": {
      "text/plain": [
       "array([ 0,  1,  2,  3,  4,  5,  6,  7,  8,  9, 10, 11, 12, 13, 14, 15, 16,\n",
       "       17, 18, 19])"
      ]
     },
     "execution_count": 42,
     "metadata": {},
     "output_type": "execute_result"
    }
   ],
   "source": [
    "x = np.arange(20)\n",
    "x"
   ]
  },
  {
   "cell_type": "code",
   "execution_count": 43,
   "metadata": {},
   "outputs": [
    {
     "data": {
      "text/plain": [
       "array([ 5,  6,  7,  8,  9, 10, 11, 12, 13, 14, 15, 16, 17, 18, 19])"
      ]
     },
     "execution_count": 43,
     "metadata": {},
     "output_type": "execute_result"
    }
   ],
   "source": [
    "x = np.arange(5,20)\n",
    "x"
   ]
  },
  {
   "cell_type": "code",
   "execution_count": 44,
   "metadata": {},
   "outputs": [
    {
     "data": {
      "text/plain": [
       "array([ 0,  2,  4,  6,  8, 10, 12, 14, 16, 18])"
      ]
     },
     "execution_count": 44,
     "metadata": {},
     "output_type": "execute_result"
    }
   ],
   "source": [
    "x = np.arange(0,20,2)\n",
    "x"
   ]
  },
  {
   "cell_type": "code",
   "execution_count": 46,
   "metadata": {},
   "outputs": [
    {
     "data": {
      "text/plain": [
       "array([0.  , 0.25, 0.5 , 0.75, 1.  ])"
      ]
     },
     "execution_count": 46,
     "metadata": {},
     "output_type": "execute_result"
    }
   ],
   "source": [
    "x = np.linspace(0,1,5)\n",
    "x"
   ]
  },
  {
   "cell_type": "code",
   "execution_count": 48,
   "metadata": {},
   "outputs": [
    {
     "data": {
      "text/plain": [
       "array([[0.30814546, 0.16658484, 0.98428596],\n",
       "       [0.43635921, 0.59257963, 0.45946453],\n",
       "       [0.51402426, 0.15542036, 0.33142484]])"
      ]
     },
     "execution_count": 48,
     "metadata": {},
     "output_type": "execute_result"
    }
   ],
   "source": [
    "x = np.random.random((3,3))\n",
    "x"
   ]
  },
  {
   "cell_type": "code",
   "execution_count": 50,
   "metadata": {},
   "outputs": [
    {
     "data": {
      "text/plain": [
       "array([[ 0.59719423, -1.64405531, -0.56553342],\n",
       "       [ 1.04549476,  0.15630509,  0.76710821],\n",
       "       [-0.60770794, -1.5218967 , -0.0652083 ],\n",
       "       [-1.33823609,  0.22512629,  0.47944994]])"
      ]
     },
     "execution_count": 50,
     "metadata": {},
     "output_type": "execute_result"
    }
   ],
   "source": [
    "x = np.random.normal(0,1,(4,3))\n",
    "x"
   ]
  },
  {
   "cell_type": "code",
   "execution_count": 51,
   "metadata": {},
   "outputs": [
    {
     "name": "stdout",
     "output_type": "stream",
     "text": [
      "\u001b[1;31mDocstring:\u001b[0m\n",
      "normal(loc=0.0, scale=1.0, size=None)\n",
      "\n",
      "Draw random samples from a normal (Gaussian) distribution.\n",
      "\n",
      "The probability density function of the normal distribution, first\n",
      "derived by De Moivre and 200 years later by both Gauss and Laplace\n",
      "independently [2]_, is often called the bell curve because of\n",
      "its characteristic shape (see the example below).\n",
      "\n",
      "The normal distributions occurs often in nature.  For example, it\n",
      "describes the commonly occurring distribution of samples influenced\n",
      "by a large number of tiny, random disturbances, each with its own\n",
      "unique distribution [2]_.\n",
      "\n",
      ".. note::\n",
      "    New code should use the `~numpy.random.Generator.normal`\n",
      "    method of a `~numpy.random.Generator` instance instead;\n",
      "    please see the :ref:`random-quick-start`.\n",
      "\n",
      "Parameters\n",
      "----------\n",
      "loc : float or array_like of floats\n",
      "    Mean (\"centre\") of the distribution.\n",
      "scale : float or array_like of floats\n",
      "    Standard deviation (spread or \"width\") of the distribution. Must be\n",
      "    non-negative.\n",
      "size : int or tuple of ints, optional\n",
      "    Output shape.  If the given shape is, e.g., ``(m, n, k)``, then\n",
      "    ``m * n * k`` samples are drawn.  If size is ``None`` (default),\n",
      "    a single value is returned if ``loc`` and ``scale`` are both scalars.\n",
      "    Otherwise, ``np.broadcast(loc, scale).size`` samples are drawn.\n",
      "\n",
      "Returns\n",
      "-------\n",
      "out : ndarray or scalar\n",
      "    Drawn samples from the parameterized normal distribution.\n",
      "\n",
      "See Also\n",
      "--------\n",
      "scipy.stats.norm : probability density function, distribution or\n",
      "    cumulative density function, etc.\n",
      "random.Generator.normal: which should be used for new code.\n",
      "\n",
      "Notes\n",
      "-----\n",
      "The probability density for the Gaussian distribution is\n",
      "\n",
      ".. math:: p(x) = \\frac{1}{\\sqrt{ 2 \\pi \\sigma^2 }}\n",
      "                 e^{ - \\frac{ (x - \\mu)^2 } {2 \\sigma^2} },\n",
      "\n",
      "where :math:`\\mu` is the mean and :math:`\\sigma` the standard\n",
      "deviation. The square of the standard deviation, :math:`\\sigma^2`,\n",
      "is called the variance.\n",
      "\n",
      "The function has its peak at the mean, and its \"spread\" increases with\n",
      "the standard deviation (the function reaches 0.607 times its maximum at\n",
      ":math:`x + \\sigma` and :math:`x - \\sigma` [2]_).  This implies that\n",
      "normal is more likely to return samples lying close to the mean, rather\n",
      "than those far away.\n",
      "\n",
      "References\n",
      "----------\n",
      ".. [1] Wikipedia, \"Normal distribution\",\n",
      "       https://en.wikipedia.org/wiki/Normal_distribution\n",
      ".. [2] P. R. Peebles Jr., \"Central Limit Theorem\" in \"Probability,\n",
      "       Random Variables and Random Signal Principles\", 4th ed., 2001,\n",
      "       pp. 51, 51, 125.\n",
      "\n",
      "Examples\n",
      "--------\n",
      "Draw samples from the distribution:\n",
      "\n",
      ">>> mu, sigma = 0, 0.1 # mean and standard deviation\n",
      ">>> s = np.random.normal(mu, sigma, 1000)\n",
      "\n",
      "Verify the mean and the variance:\n",
      "\n",
      ">>> abs(mu - np.mean(s))\n",
      "0.0  # may vary\n",
      "\n",
      ">>> abs(sigma - np.std(s, ddof=1))\n",
      "0.1  # may vary\n",
      "\n",
      "Display the histogram of the samples, along with\n",
      "the probability density function:\n",
      "\n",
      ">>> import matplotlib.pyplot as plt\n",
      ">>> count, bins, ignored = plt.hist(s, 30, density=True)\n",
      ">>> plt.plot(bins, 1/(sigma * np.sqrt(2 * np.pi)) *\n",
      "...                np.exp( - (bins - mu)**2 / (2 * sigma**2) ),\n",
      "...          linewidth=2, color='r')\n",
      ">>> plt.show()\n",
      "\n",
      "Two-by-four array of samples from the normal distribution with\n",
      "mean 3 and standard deviation 2.5:\n",
      "\n",
      ">>> np.random.normal(3, 2.5, size=(2, 4))\n",
      "array([[-4.49401501,  4.00950034, -1.81814867,  7.29718677],   # random\n",
      "       [ 0.39924804,  4.68456316,  4.99394529,  4.84057254]])  # random\n",
      "\u001b[1;31mType:\u001b[0m      builtin_function_or_method"
     ]
    }
   ],
   "source": [
    "np.random.normal?"
   ]
  },
  {
   "cell_type": "code",
   "execution_count": 54,
   "metadata": {},
   "outputs": [
    {
     "data": {
      "text/plain": [
       "array([[[1, 4, 4],\n",
       "        [3, 9, 2],\n",
       "        [6, 1, 8]],\n",
       "\n",
       "       [[6, 1, 4],\n",
       "        [5, 6, 3],\n",
       "        [9, 8, 4]],\n",
       "\n",
       "       [[5, 6, 7],\n",
       "        [2, 8, 7],\n",
       "        [7, 6, 2]]])"
      ]
     },
     "execution_count": 54,
     "metadata": {},
     "output_type": "execute_result"
    }
   ],
   "source": [
    "x = np.random.randint(0,10,(3,3,3))\n",
    "x"
   ]
  },
  {
   "cell_type": "code",
   "execution_count": 53,
   "metadata": {},
   "outputs": [
    {
     "data": {
      "text/plain": [
       "array([[1., 0., 0., 0., 0.],\n",
       "       [0., 1., 0., 0., 0.],\n",
       "       [0., 0., 1., 0., 0.],\n",
       "       [0., 0., 0., 1., 0.],\n",
       "       [0., 0., 0., 0., 1.]])"
      ]
     },
     "execution_count": 53,
     "metadata": {},
     "output_type": "execute_result"
    }
   ],
   "source": [
    "np.eye(5)"
   ]
  },
  {
   "cell_type": "code",
   "execution_count": 55,
   "metadata": {},
   "outputs": [],
   "source": [
    "x1 = np.random.randint(10,size=(6))\n",
    "x2 = np.random.randint(10,size=(3,4))\n",
    "x3 = np.random.randint(10,size=(3,4,5))"
   ]
  },
  {
   "cell_type": "code",
   "execution_count": 60,
   "metadata": {},
   "outputs": [
    {
     "name": "stdout",
     "output_type": "stream",
     "text": [
      "x3 ndim: 3\n"
     ]
    }
   ],
   "source": [
    "print(f'x3 ndim: {x3.ndim}')"
   ]
  },
  {
   "cell_type": "code",
   "execution_count": 62,
   "metadata": {},
   "outputs": [
    {
     "name": "stdout",
     "output_type": "stream",
     "text": [
      "x3 shape: (3, 4, 5)\n"
     ]
    }
   ],
   "source": [
    "print(f'x3 shape: {x3.shape}')"
   ]
  },
  {
   "cell_type": "code",
   "execution_count": 63,
   "metadata": {},
   "outputs": [
    {
     "name": "stdout",
     "output_type": "stream",
     "text": [
      "x3 size: 60\n"
     ]
    }
   ],
   "source": [
    "print(f'x3 size: {x3.size}')"
   ]
  },
  {
   "cell_type": "code",
   "execution_count": 64,
   "metadata": {},
   "outputs": [
    {
     "name": "stdout",
     "output_type": "stream",
     "text": [
      "itemsize: 4 bytes\n"
     ]
    }
   ],
   "source": [
    "print(f'itemsize: {x3.itemsize} bytes')"
   ]
  },
  {
   "cell_type": "code",
   "execution_count": 65,
   "metadata": {},
   "outputs": [
    {
     "data": {
      "text/plain": [
       "numpy.int32"
      ]
     },
     "execution_count": 65,
     "metadata": {},
     "output_type": "execute_result"
    }
   ],
   "source": [
    "type(x3[0,0,0])"
   ]
  },
  {
   "cell_type": "code",
   "execution_count": 66,
   "metadata": {},
   "outputs": [
    {
     "name": "stdout",
     "output_type": "stream",
     "text": [
      "nbytes: 240 bytes\n"
     ]
    }
   ],
   "source": [
    "print(f'nbytes: {x3.nbytes} bytes')"
   ]
  },
  {
   "cell_type": "code",
   "execution_count": 67,
   "metadata": {},
   "outputs": [
    {
     "data": {
      "text/plain": [
       "array([8, 3, 3, 9, 5, 8])"
      ]
     },
     "execution_count": 67,
     "metadata": {},
     "output_type": "execute_result"
    }
   ],
   "source": [
    "x1"
   ]
  },
  {
   "cell_type": "code",
   "execution_count": 68,
   "metadata": {},
   "outputs": [
    {
     "data": {
      "text/plain": [
       "8"
      ]
     },
     "execution_count": 68,
     "metadata": {},
     "output_type": "execute_result"
    }
   ],
   "source": [
    "x1[0]"
   ]
  },
  {
   "cell_type": "code",
   "execution_count": 69,
   "metadata": {},
   "outputs": [
    {
     "data": {
      "text/plain": [
       "array([[6, 5, 9, 9],\n",
       "       [9, 7, 4, 5],\n",
       "       [7, 6, 9, 5]])"
      ]
     },
     "execution_count": 69,
     "metadata": {},
     "output_type": "execute_result"
    }
   ],
   "source": [
    "x2"
   ]
  },
  {
   "cell_type": "code",
   "execution_count": 70,
   "metadata": {},
   "outputs": [
    {
     "data": {
      "text/plain": [
       "5"
      ]
     },
     "execution_count": 70,
     "metadata": {},
     "output_type": "execute_result"
    }
   ],
   "source": [
    "x2[0,1]"
   ]
  },
  {
   "cell_type": "code",
   "execution_count": 71,
   "metadata": {},
   "outputs": [
    {
     "data": {
      "text/plain": [
       "array([8, 3, 3, 9, 5, 8])"
      ]
     },
     "execution_count": 71,
     "metadata": {},
     "output_type": "execute_result"
    }
   ],
   "source": [
    "x1"
   ]
  },
  {
   "cell_type": "code",
   "execution_count": 72,
   "metadata": {},
   "outputs": [
    {
     "data": {
      "text/plain": [
       "8"
      ]
     },
     "execution_count": 72,
     "metadata": {},
     "output_type": "execute_result"
    }
   ],
   "source": [
    "x1[-1]"
   ]
  },
  {
   "cell_type": "code",
   "execution_count": 73,
   "metadata": {},
   "outputs": [
    {
     "data": {
      "text/plain": [
       "5"
      ]
     },
     "execution_count": 73,
     "metadata": {},
     "output_type": "execute_result"
    }
   ],
   "source": [
    "x1[-2]"
   ]
  },
  {
   "cell_type": "code",
   "execution_count": 74,
   "metadata": {},
   "outputs": [
    {
     "data": {
      "text/plain": [
       "array([[6, 5, 9, 9],\n",
       "       [9, 7, 4, 5],\n",
       "       [7, 6, 9, 5]])"
      ]
     },
     "execution_count": 74,
     "metadata": {},
     "output_type": "execute_result"
    }
   ],
   "source": [
    "x2"
   ]
  },
  {
   "cell_type": "code",
   "execution_count": 75,
   "metadata": {},
   "outputs": [
    {
     "data": {
      "text/plain": [
       "9"
      ]
     },
     "execution_count": 75,
     "metadata": {},
     "output_type": "execute_result"
    }
   ],
   "source": [
    "x2[0,-1]"
   ]
  },
  {
   "cell_type": "code",
   "execution_count": 76,
   "metadata": {},
   "outputs": [
    {
     "data": {
      "text/plain": [
       "6"
      ]
     },
     "execution_count": 76,
     "metadata": {},
     "output_type": "execute_result"
    }
   ],
   "source": [
    "x2[-1,-3]"
   ]
  },
  {
   "attachments": {},
   "cell_type": "markdown",
   "metadata": {},
   "source": [
    "## Array Slicing"
   ]
  },
  {
   "cell_type": "code",
   "execution_count": 78,
   "metadata": {},
   "outputs": [
    {
     "data": {
      "text/plain": [
       "array([0, 1, 2, 3, 4, 5, 6, 7, 8, 9])"
      ]
     },
     "execution_count": 78,
     "metadata": {},
     "output_type": "execute_result"
    }
   ],
   "source": [
    "x = np.arange(10)\n",
    "x"
   ]
  },
  {
   "attachments": {},
   "cell_type": "markdown",
   "metadata": {},
   "source": [
    "x[inicio:fim:incremento]"
   ]
  },
  {
   "cell_type": "code",
   "execution_count": 79,
   "metadata": {},
   "outputs": [
    {
     "data": {
      "text/plain": [
       "array([0, 1, 2, 3, 4])"
      ]
     },
     "execution_count": 79,
     "metadata": {},
     "output_type": "execute_result"
    }
   ],
   "source": [
    "x[:5]"
   ]
  },
  {
   "cell_type": "code",
   "execution_count": 80,
   "metadata": {},
   "outputs": [
    {
     "data": {
      "text/plain": [
       "array([0, 1, 2, 3, 4])"
      ]
     },
     "execution_count": 80,
     "metadata": {},
     "output_type": "execute_result"
    }
   ],
   "source": [
    "x[0:5]"
   ]
  },
  {
   "cell_type": "code",
   "execution_count": 81,
   "metadata": {},
   "outputs": [
    {
     "data": {
      "text/plain": [
       "array([5, 6, 7, 8, 9])"
      ]
     },
     "execution_count": 81,
     "metadata": {},
     "output_type": "execute_result"
    }
   ],
   "source": [
    "x[5:]"
   ]
  },
  {
   "cell_type": "code",
   "execution_count": 82,
   "metadata": {},
   "outputs": [
    {
     "data": {
      "text/plain": [
       "array([4, 5, 6])"
      ]
     },
     "execution_count": 82,
     "metadata": {},
     "output_type": "execute_result"
    }
   ],
   "source": [
    "x[4:7]"
   ]
  },
  {
   "cell_type": "code",
   "execution_count": 83,
   "metadata": {},
   "outputs": [
    {
     "data": {
      "text/plain": [
       "array([0, 2, 4, 6, 8])"
      ]
     },
     "execution_count": 83,
     "metadata": {},
     "output_type": "execute_result"
    }
   ],
   "source": [
    "x[::2]"
   ]
  },
  {
   "cell_type": "code",
   "execution_count": 84,
   "metadata": {},
   "outputs": [
    {
     "data": {
      "text/plain": [
       "array([1, 3, 5, 7, 9])"
      ]
     },
     "execution_count": 84,
     "metadata": {},
     "output_type": "execute_result"
    }
   ],
   "source": [
    "x[1::2]"
   ]
  },
  {
   "cell_type": "code",
   "execution_count": 85,
   "metadata": {},
   "outputs": [
    {
     "data": {
      "text/plain": [
       "array([9, 8, 7, 6, 5, 4, 3, 2, 1, 0])"
      ]
     },
     "execution_count": 85,
     "metadata": {},
     "output_type": "execute_result"
    }
   ],
   "source": [
    "x[::-1]"
   ]
  },
  {
   "cell_type": "code",
   "execution_count": 86,
   "metadata": {},
   "outputs": [
    {
     "data": {
      "text/plain": [
       "array([5, 3, 1])"
      ]
     },
     "execution_count": 86,
     "metadata": {},
     "output_type": "execute_result"
    }
   ],
   "source": [
    "x[5::-2]"
   ]
  },
  {
   "cell_type": "code",
   "execution_count": 87,
   "metadata": {},
   "outputs": [
    {
     "data": {
      "text/plain": [
       "array([[6, 5, 9, 9],\n",
       "       [9, 7, 4, 5],\n",
       "       [7, 6, 9, 5]])"
      ]
     },
     "execution_count": 87,
     "metadata": {},
     "output_type": "execute_result"
    }
   ],
   "source": [
    "x2"
   ]
  },
  {
   "cell_type": "code",
   "execution_count": 88,
   "metadata": {},
   "outputs": [
    {
     "data": {
      "text/plain": [
       "array([[6, 5, 9, 9],\n",
       "       [9, 7, 4, 5]])"
      ]
     },
     "execution_count": 88,
     "metadata": {},
     "output_type": "execute_result"
    }
   ],
   "source": [
    "x2[:2,:]"
   ]
  },
  {
   "cell_type": "code",
   "execution_count": 89,
   "metadata": {},
   "outputs": [
    {
     "data": {
      "text/plain": [
       "array([[6, 5],\n",
       "       [9, 7]])"
      ]
     },
     "execution_count": 89,
     "metadata": {},
     "output_type": "execute_result"
    }
   ],
   "source": [
    "x2[:2,:2]"
   ]
  },
  {
   "cell_type": "code",
   "execution_count": 90,
   "metadata": {},
   "outputs": [
    {
     "data": {
      "text/plain": [
       "array([[6, 9],\n",
       "       [9, 4]])"
      ]
     },
     "execution_count": 90,
     "metadata": {},
     "output_type": "execute_result"
    }
   ],
   "source": [
    "x2[:2,::2]"
   ]
  },
  {
   "cell_type": "code",
   "execution_count": 91,
   "metadata": {},
   "outputs": [
    {
     "data": {
      "text/plain": [
       "array([[5, 9, 6, 7],\n",
       "       [5, 4, 7, 9],\n",
       "       [9, 9, 5, 6]])"
      ]
     },
     "execution_count": 91,
     "metadata": {},
     "output_type": "execute_result"
    }
   ],
   "source": [
    "x2[::-1,::-1]"
   ]
  },
  {
   "cell_type": "code",
   "execution_count": 93,
   "metadata": {},
   "outputs": [
    {
     "data": {
      "text/plain": [
       "array([[6, 5, 9, 9],\n",
       "       [9, 7, 4, 5],\n",
       "       [7, 6, 9, 5]])"
      ]
     },
     "execution_count": 93,
     "metadata": {},
     "output_type": "execute_result"
    }
   ],
   "source": [
    "x2"
   ]
  },
  {
   "cell_type": "code",
   "execution_count": 92,
   "metadata": {},
   "outputs": [
    {
     "data": {
      "text/plain": [
       "array([9, 4, 9])"
      ]
     },
     "execution_count": 92,
     "metadata": {},
     "output_type": "execute_result"
    }
   ],
   "source": [
    "x2[:,2]"
   ]
  },
  {
   "cell_type": "code",
   "execution_count": 94,
   "metadata": {},
   "outputs": [
    {
     "data": {
      "text/plain": [
       "array([9, 7, 4, 5])"
      ]
     },
     "execution_count": 94,
     "metadata": {},
     "output_type": "execute_result"
    }
   ],
   "source": [
    "x2[1,:]"
   ]
  },
  {
   "cell_type": "code",
   "execution_count": 95,
   "metadata": {},
   "outputs": [
    {
     "data": {
      "text/plain": [
       "array([9, 7, 4, 5])"
      ]
     },
     "execution_count": 95,
     "metadata": {},
     "output_type": "execute_result"
    }
   ],
   "source": [
    "x2[1]"
   ]
  },
  {
   "cell_type": "code",
   "execution_count": 96,
   "metadata": {},
   "outputs": [
    {
     "data": {
      "text/plain": [
       "array([[6, 5, 9, 9],\n",
       "       [9, 7, 4, 5],\n",
       "       [7, 6, 9, 5]])"
      ]
     },
     "execution_count": 96,
     "metadata": {},
     "output_type": "execute_result"
    }
   ],
   "source": [
    "x2"
   ]
  },
  {
   "attachments": {},
   "cell_type": "markdown",
   "metadata": {},
   "source": [
    "## Views"
   ]
  },
  {
   "cell_type": "code",
   "execution_count": 97,
   "metadata": {},
   "outputs": [
    {
     "data": {
      "text/plain": [
       "array([[6, 5, 9, 9],\n",
       "       [9, 7, 4, 5],\n",
       "       [7, 6, 9, 5]])"
      ]
     },
     "execution_count": 97,
     "metadata": {},
     "output_type": "execute_result"
    }
   ],
   "source": [
    "x2"
   ]
  },
  {
   "cell_type": "code",
   "execution_count": 99,
   "metadata": {},
   "outputs": [],
   "source": [
    "x2_slice = x2[:2,:2]"
   ]
  },
  {
   "cell_type": "code",
   "execution_count": 100,
   "metadata": {},
   "outputs": [
    {
     "data": {
      "text/plain": [
       "array([[6, 5],\n",
       "       [9, 7]])"
      ]
     },
     "execution_count": 100,
     "metadata": {},
     "output_type": "execute_result"
    }
   ],
   "source": [
    "x2_slice"
   ]
  },
  {
   "cell_type": "code",
   "execution_count": 101,
   "metadata": {},
   "outputs": [],
   "source": [
    "x2_slice[0,0] = 100"
   ]
  },
  {
   "cell_type": "code",
   "execution_count": 102,
   "metadata": {},
   "outputs": [
    {
     "data": {
      "text/plain": [
       "array([[100,   5],\n",
       "       [  9,   7]])"
      ]
     },
     "execution_count": 102,
     "metadata": {},
     "output_type": "execute_result"
    }
   ],
   "source": [
    "x2_slice"
   ]
  },
  {
   "cell_type": "code",
   "execution_count": 103,
   "metadata": {},
   "outputs": [
    {
     "data": {
      "text/plain": [
       "array([[100,   5,   9,   9],\n",
       "       [  9,   7,   4,   5],\n",
       "       [  7,   6,   9,   5]])"
      ]
     },
     "execution_count": 103,
     "metadata": {},
     "output_type": "execute_result"
    }
   ],
   "source": [
    "x2"
   ]
  },
  {
   "cell_type": "code",
   "execution_count": 104,
   "metadata": {},
   "outputs": [],
   "source": [
    "x2_slice = x2[:2,:2].copy()"
   ]
  },
  {
   "cell_type": "code",
   "execution_count": 105,
   "metadata": {},
   "outputs": [
    {
     "data": {
      "text/plain": [
       "array([[100,   5],\n",
       "       [  9,   7]])"
      ]
     },
     "execution_count": 105,
     "metadata": {},
     "output_type": "execute_result"
    }
   ],
   "source": [
    "x2_slice"
   ]
  },
  {
   "cell_type": "code",
   "execution_count": 107,
   "metadata": {},
   "outputs": [
    {
     "data": {
      "text/plain": [
       "array([[0, 5],\n",
       "       [9, 7]])"
      ]
     },
     "execution_count": 107,
     "metadata": {},
     "output_type": "execute_result"
    }
   ],
   "source": [
    "x2_slice[0,0] = 0\n",
    "x2_slice"
   ]
  },
  {
   "cell_type": "code",
   "execution_count": 108,
   "metadata": {},
   "outputs": [
    {
     "data": {
      "text/plain": [
       "array([[100,   5,   9,   9],\n",
       "       [  9,   7,   4,   5],\n",
       "       [  7,   6,   9,   5]])"
      ]
     },
     "execution_count": 108,
     "metadata": {},
     "output_type": "execute_result"
    }
   ],
   "source": [
    "x2"
   ]
  },
  {
   "attachments": {},
   "cell_type": "markdown",
   "metadata": {},
   "source": [
    "## Exercícios"
   ]
  },
  {
   "attachments": {},
   "cell_type": "markdown",
   "metadata": {},
   "source": [
    "1. Crie uma função que receba uma lista como argumento e retorne o número de elementos da lista."
   ]
  },
  {
   "cell_type": "code",
   "execution_count": 110,
   "metadata": {},
   "outputs": [
    {
     "data": {
      "text/plain": [
       "4"
      ]
     },
     "execution_count": 110,
     "metadata": {},
     "output_type": "execute_result"
    }
   ],
   "source": [
    "def nelementos(L):\n",
    "    return len(L)\n",
    "\n",
    "x = [1,2,3,4]\n",
    "nelementos(x)"
   ]
  },
  {
   "attachments": {},
   "cell_type": "markdown",
   "metadata": {},
   "source": [
    "2. Utilize o comando \"%xmode\" para mudar o modo de depuração para \"Plain\" e execute o código abaixo. Observe como o traceback é apresentado."
   ]
  },
  {
   "cell_type": "code",
   "execution_count": 111,
   "metadata": {},
   "outputs": [
    {
     "name": "stdout",
     "output_type": "stream",
     "text": [
      "2\n",
      "3\n",
      "4\n",
      "5\n"
     ]
    },
    {
     "ename": "IndexError",
     "evalue": "list index out of range",
     "output_type": "error",
     "traceback": [
      "\u001b[1;31m---------------------------------------------------------------------------\u001b[0m",
      "\u001b[1;31mIndexError\u001b[0m                                Traceback (most recent call last)",
      "Cell \u001b[1;32mIn[111], line 6\u001b[0m\n\u001b[0;32m      3\u001b[0m         \u001b[39mprint\u001b[39m(lista[i\u001b[39m+\u001b[39m\u001b[39m1\u001b[39m])\n\u001b[0;32m      5\u001b[0m lista \u001b[39m=\u001b[39m [\u001b[39m1\u001b[39m, \u001b[39m2\u001b[39m, \u001b[39m3\u001b[39m, \u001b[39m4\u001b[39m, \u001b[39m5\u001b[39m]\n\u001b[1;32m----> 6\u001b[0m imprime_elementos(lista)\n",
      "Cell \u001b[1;32mIn[111], line 3\u001b[0m, in \u001b[0;36mimprime_elementos\u001b[1;34m(lista)\u001b[0m\n\u001b[0;32m      1\u001b[0m \u001b[39mdef\u001b[39;00m \u001b[39mimprime_elementos\u001b[39m(lista):\n\u001b[0;32m      2\u001b[0m     \u001b[39mfor\u001b[39;00m i \u001b[39min\u001b[39;00m \u001b[39mrange\u001b[39m(\u001b[39mlen\u001b[39m(lista)):\n\u001b[1;32m----> 3\u001b[0m         \u001b[39mprint\u001b[39m(lista[i\u001b[39m+\u001b[39;49m\u001b[39m1\u001b[39;49m])\n",
      "\u001b[1;31mIndexError\u001b[0m: list index out of range"
     ]
    }
   ],
   "source": [
    "def imprime_elementos(lista):\n",
    "    for i in range(len(lista)):\n",
    "        print(lista[i+1])\n",
    "\n",
    "lista = [1, 2, 3, 4, 5]\n",
    "imprime_elementos(lista)"
   ]
  },
  {
   "cell_type": "code",
   "execution_count": 112,
   "metadata": {},
   "outputs": [
    {
     "name": "stdout",
     "output_type": "stream",
     "text": [
      "Exception reporting mode: Plain\n"
     ]
    }
   ],
   "source": [
    "%xmode plain"
   ]
  },
  {
   "cell_type": "code",
   "execution_count": 113,
   "metadata": {},
   "outputs": [
    {
     "name": "stdout",
     "output_type": "stream",
     "text": [
      "2\n",
      "3\n",
      "4\n",
      "5\n"
     ]
    },
    {
     "ename": "IndexError",
     "evalue": "list index out of range",
     "output_type": "error",
     "traceback": [
      "Traceback \u001b[1;36m(most recent call last)\u001b[0m:\n",
      "\u001b[0m  Cell \u001b[0;32mIn[113], line 1\u001b[0m\n    imprime_elementos(lista)\u001b[0m\n",
      "\u001b[1;36m  Cell \u001b[1;32mIn[111], line 3\u001b[1;36m in \u001b[1;35mimprime_elementos\u001b[1;36m\n\u001b[1;33m    print(lista[i+1])\u001b[1;36m\n",
      "\u001b[1;31mIndexError\u001b[0m\u001b[1;31m:\u001b[0m list index out of range\n"
     ]
    }
   ],
   "source": [
    "imprime_elementos(lista)"
   ]
  },
  {
   "attachments": {},
   "cell_type": "markdown",
   "metadata": {},
   "source": [
    "3. Utilize o comando \"%xmode\" para mudar o modo de depuração para \"Verbose\" e execute a mesma função do exercício anterior. Indentifique a causa do problema."
   ]
  },
  {
   "cell_type": "code",
   "execution_count": 114,
   "metadata": {},
   "outputs": [
    {
     "name": "stdout",
     "output_type": "stream",
     "text": [
      "Exception reporting mode: Verbose\n"
     ]
    }
   ],
   "source": [
    "%xmode verbose"
   ]
  },
  {
   "cell_type": "code",
   "execution_count": 115,
   "metadata": {},
   "outputs": [
    {
     "name": "stdout",
     "output_type": "stream",
     "text": [
      "2\n",
      "3\n",
      "4\n",
      "5\n"
     ]
    },
    {
     "ename": "IndexError",
     "evalue": "list index out of range",
     "output_type": "error",
     "traceback": [
      "\u001b[1;31m---------------------------------------------------------------------------\u001b[0m",
      "\u001b[1;31mIndexError\u001b[0m                                Traceback (most recent call last)",
      "Cell \u001b[1;32mIn[115], line 1\u001b[0m\n\u001b[1;32m----> 1\u001b[0m imprime_elementos(lista)\n        lista \u001b[1;34m= [1, 2, 3, 4, 5]\u001b[0m\n",
      "Cell \u001b[1;32mIn[111], line 3\u001b[0m, in \u001b[0;36mimprime_elementos\u001b[1;34m(lista=[1, 2, 3, 4, 5])\u001b[0m\n\u001b[0;32m      1\u001b[0m \u001b[39mdef\u001b[39;00m \u001b[39mimprime_elementos\u001b[39m(lista):\n\u001b[0;32m      2\u001b[0m     \u001b[39mfor\u001b[39;00m i \u001b[39min\u001b[39;00m \u001b[39mrange\u001b[39m(\u001b[39mlen\u001b[39m(lista)):\n\u001b[1;32m----> 3\u001b[0m         \u001b[39mprint\u001b[39m(lista[i\u001b[39m+\u001b[39;49m\u001b[39m1\u001b[39;49m])\n        i \u001b[1;34m= 4\u001b[0m\u001b[1;34m\n        \u001b[0mlista \u001b[1;34m= [1, 2, 3, 4, 5]\u001b[0m\u001b[1;34m\n        \u001b[0mi+1 \u001b[1;34m= 5\u001b[0m\n",
      "\u001b[1;31mIndexError\u001b[0m: list index out of range"
     ]
    }
   ],
   "source": [
    "imprime_elementos(lista)"
   ]
  },
  {
   "attachments": {},
   "cell_type": "markdown",
   "metadata": {},
   "source": [
    "4. Crie um array numpy unidimensional de tamanho 10, contendo apenas números pares."
   ]
  },
  {
   "cell_type": "code",
   "execution_count": 116,
   "metadata": {},
   "outputs": [
    {
     "data": {
      "text/plain": [
       "array([ 0,  2,  4,  6,  8, 10, 12, 14, 16, 18])"
      ]
     },
     "execution_count": 116,
     "metadata": {},
     "output_type": "execute_result"
    }
   ],
   "source": [
    "np.arange(0,20,2)"
   ]
  },
  {
   "attachments": {},
   "cell_type": "markdown",
   "metadata": {},
   "source": [
    "5. Crie um array numpy bidimensional de tamanho (3, 3), contendo apenas números inteiros aleatórios entre 0 e 9."
   ]
  },
  {
   "cell_type": "code",
   "execution_count": 119,
   "metadata": {},
   "outputs": [
    {
     "data": {
      "text/plain": [
       "array([[0, 0, 1],\n",
       "       [7, 7, 8],\n",
       "       [9, 6, 0]])"
      ]
     },
     "execution_count": 119,
     "metadata": {},
     "output_type": "execute_result"
    }
   ],
   "source": [
    "np.random.randint(0,10,(3,3))"
   ]
  },
  {
   "attachments": {},
   "cell_type": "markdown",
   "metadata": {},
   "source": [
    "6. Crie um array numpy unidimensional de tamanho 20, contendo números aleatórios entre 0 e 1, e em seguida, calcule a soma dos elementos nas posições ímpares."
   ]
  },
  {
   "cell_type": "code",
   "execution_count": 134,
   "metadata": {},
   "outputs": [
    {
     "data": {
      "text/plain": [
       "array([0.21285567, 0.66995082, 0.36028531, 0.42142089, 0.16871259,\n",
       "       0.12007205, 0.51847939, 0.35450636, 0.18932504, 0.9800424 ,\n",
       "       0.68954158, 0.00684362, 0.67416517, 0.06764829, 0.52331729,\n",
       "       0.4126415 , 0.17013856, 0.64142351, 0.69207092, 0.10231686])"
      ]
     },
     "execution_count": 134,
     "metadata": {},
     "output_type": "execute_result"
    }
   ],
   "source": [
    "x = np.random.random(20)\n",
    "x"
   ]
  },
  {
   "cell_type": "code",
   "execution_count": 135,
   "metadata": {},
   "outputs": [
    {
     "data": {
      "text/plain": [
       "array([0.66995082, 0.42142089, 0.12007205, 0.35450636, 0.9800424 ,\n",
       "       0.00684362, 0.06764829, 0.4126415 , 0.64142351, 0.10231686])"
      ]
     },
     "execution_count": 135,
     "metadata": {},
     "output_type": "execute_result"
    }
   ],
   "source": [
    "x = x[1::2].copy()\n",
    "x"
   ]
  },
  {
   "cell_type": "code",
   "execution_count": 136,
   "metadata": {},
   "outputs": [
    {
     "data": {
      "text/plain": [
       "3.7768662863320297"
      ]
     },
     "execution_count": 136,
     "metadata": {},
     "output_type": "execute_result"
    }
   ],
   "source": [
    "np.sum(x)"
   ]
  },
  {
   "cell_type": "code",
   "execution_count": 129,
   "metadata": {},
   "outputs": [
    {
     "data": {
      "text/plain": [
       "array([-7.80793061e-01,  1.21322522e+00,  2.13606277e+00,  9.82795533e-01,\n",
       "        9.12707658e-01, -4.60795114e-02, -8.08776998e-01,  6.86090014e-01,\n",
       "       -2.40552183e-01, -5.47150444e-01, -1.21040743e-02, -1.39332053e+00,\n",
       "        1.96014895e+00,  5.91517001e-01,  3.75644401e-01,  1.68685550e+00,\n",
       "        1.56518035e-01, -1.49496426e-01, -1.74097410e+00, -3.36904517e-01,\n",
       "        8.08166738e-01,  1.99501663e+00,  4.15185665e-01,  5.74159379e-01,\n",
       "        1.29531112e+00,  1.67100515e-01,  7.84839501e-01,  9.45914909e-01,\n",
       "       -3.00554431e+00, -8.82813055e-01,  9.49007426e-03, -2.62748942e-03,\n",
       "       -2.51086762e+00, -4.09423265e-01, -1.68367127e+00,  7.87183414e-01,\n",
       "        2.53305325e-01,  1.96739212e-01,  1.49301036e-01, -9.86649044e-01,\n",
       "       -6.46913111e-01, -3.61064159e-01, -8.64138673e-01,  7.30257044e-01,\n",
       "       -4.98694927e-01, -4.48338627e-01,  1.34425876e-01, -1.23107626e+00,\n",
       "        2.02057055e+00,  1.87672064e+00,  1.93485590e+00,  5.11556887e-03,\n",
       "       -5.74874565e-01,  6.38181212e-01, -5.13256856e-01, -8.56784109e-04,\n",
       "        2.62360789e-01,  3.45189289e-02,  2.03813937e-01,  2.72693281e-02,\n",
       "        8.52950374e-02, -5.93345187e-01, -2.99162400e-01,  6.81281243e-01,\n",
       "        2.06942604e-01,  9.88951616e-01, -3.88962700e-01,  1.36388993e+00,\n",
       "        3.55345984e-02, -8.24111556e-01,  2.58280184e-01, -7.80522771e-02,\n",
       "       -6.75941346e-01,  1.46267515e+00, -1.05429189e+00, -3.97367452e-01,\n",
       "       -1.07337266e+00, -1.77882772e+00,  6.46040760e-01, -3.31813684e-01,\n",
       "       -1.24583438e+00, -2.77516200e-01, -2.51529784e-01,  1.68343293e-01,\n",
       "       -4.44496719e-02, -1.33967277e+00, -3.97027799e-02, -1.07876005e+00,\n",
       "        7.49073686e-02,  1.27141277e-01,  1.52941365e+00, -1.87196200e+00,\n",
       "       -5.26565250e-01, -4.28438376e-02,  2.45104009e-01,  9.88288144e-01,\n",
       "       -1.49785569e+00, -2.40881398e-01, -8.48887301e-02,  1.20023299e+00,\n",
       "        2.73593512e-01,  1.75075593e-01, -1.20278272e+00,  1.44382556e-04,\n",
       "        4.35670021e-01, -3.70660558e-02,  3.61011337e-01, -2.73359658e-01,\n",
       "        3.03020798e-02,  4.79225902e-01,  1.72573250e+00,  7.86684040e-01,\n",
       "        3.22501225e+00,  4.28853550e-01, -6.51407596e-01,  1.20201627e+00,\n",
       "        9.32130610e-01,  1.63704847e+00, -1.34370698e+00,  2.69069239e-02,\n",
       "       -2.70662359e+00, -9.94881902e-01,  1.24627918e+00,  4.07132975e-01,\n",
       "        1.24541212e+00, -9.06810126e-01, -1.31921176e-01,  6.34978935e-01,\n",
       "       -1.46415271e+00,  3.63837796e-01, -2.24125259e-02, -8.97437690e-01,\n",
       "        9.02716330e-01,  4.67220753e-02, -6.23052888e-01,  3.33002392e-01,\n",
       "        5.01831725e-01, -1.40262031e+00,  4.80057171e-01,  1.13212241e+00,\n",
       "       -1.86760030e-01,  7.43274702e-01,  3.56925776e-01,  2.03302952e-01,\n",
       "        1.75668995e-01, -9.23564974e-01, -1.34201800e+00,  5.53785957e-01,\n",
       "       -6.26949275e-01, -7.54355896e-01, -3.96641887e-01, -1.45732501e+00,\n",
       "        5.85603240e-01, -8.43788492e-01, -1.79551481e+00,  8.56588932e-01,\n",
       "       -3.52589652e-01, -4.34820988e-01, -1.42951230e+00, -7.14447505e-01,\n",
       "        2.64494309e-01, -5.60782276e-01, -2.59501888e-01, -1.15511877e+00,\n",
       "       -1.57936518e+00,  5.91805740e-01,  4.03484626e-01, -1.53601289e+00,\n",
       "       -1.52027572e+00,  1.05599655e+00, -6.60174674e-01,  7.69399696e-01,\n",
       "       -9.15388578e-01, -7.34635623e-01, -3.07494485e-01, -1.37617347e+00,\n",
       "        6.59815314e-01, -3.20938172e-01,  1.39108218e+00,  1.23414123e+00,\n",
       "        1.95911210e-01, -1.54237685e+00,  5.61703189e-01,  3.67833683e-01,\n",
       "       -8.79980077e-01, -1.53324258e+00, -1.48808904e+00, -1.53398057e+00,\n",
       "       -8.50163958e-01,  2.60363081e-01, -3.55341183e-01,  2.83826741e-01,\n",
       "        8.43037941e-01,  2.51189278e-01,  1.15995774e+00, -8.97217027e-01,\n",
       "       -5.32559216e-01, -1.23994684e+00,  1.20583582e+00, -3.04562296e-01,\n",
       "       -3.04053960e-01,  1.14897539e+00, -3.21551268e-02,  3.30933512e-01,\n",
       "       -2.13216810e-01,  2.33627419e-02,  1.16016430e+00,  2.87897063e-01,\n",
       "       -1.23307958e-02,  6.67910039e-01, -8.90793835e-02, -1.44344362e+00,\n",
       "       -1.99522560e-01,  8.93354790e-01,  1.39799893e+00,  9.22834340e-01,\n",
       "        1.29208913e+00, -2.81457362e-01,  1.07071103e-01, -1.81179132e+00,\n",
       "        1.00424712e+00,  1.28387258e+00, -1.82172036e-01,  2.63459543e-01,\n",
       "        9.71495648e-01, -1.26301285e+00,  2.58790454e-01,  6.93854628e-01,\n",
       "       -2.21461414e+00,  5.56247194e-01, -3.35562025e-01, -4.06580843e-01,\n",
       "       -2.54550155e-01,  1.09605782e+00, -9.45130236e-01, -8.13272243e-01,\n",
       "       -1.88308240e-01,  2.97179235e-01, -1.05969855e+00, -1.28576218e-01,\n",
       "       -1.01813657e+00, -8.14355733e-01, -8.65420826e-02, -7.32459545e-01,\n",
       "       -1.22434052e+00,  1.30650480e+00,  3.68293852e-02,  1.01449851e+00,\n",
       "       -4.04205080e-01, -1.11047198e+00,  6.86822441e-01,  6.20531230e-01,\n",
       "       -1.34348941e+00,  4.98796242e-01,  1.36386529e+00,  1.00181911e+00,\n",
       "        7.41930566e-01,  1.08983670e+00, -3.49299813e-01,  7.89189670e-01,\n",
       "        2.24601165e+00, -1.34167912e-01,  8.53775371e-01, -6.46226393e-01,\n",
       "        1.03137664e+00, -4.79571843e-01, -3.45688012e-01,  1.06816227e+00,\n",
       "        9.74628053e-01,  1.68961245e+00, -5.90919514e-01,  6.20940567e-01,\n",
       "        2.00925715e-01,  7.70158130e-01, -1.00902537e+00,  1.58672178e-01,\n",
       "       -9.88230915e-01,  1.33899364e-01, -1.57709287e-01, -1.71070459e+00,\n",
       "        2.57691833e-01,  4.20947939e-01, -1.57419793e-01,  7.23438676e-02,\n",
       "       -1.18299728e+00, -1.09111513e+00,  9.34543199e-01, -1.46381788e+00,\n",
       "       -5.72615095e-01,  4.92175599e-01,  1.21529813e+00, -3.64283640e-01,\n",
       "        1.86972199e-01, -1.13796561e-01,  2.15826958e+00, -3.19393635e-01,\n",
       "        6.02623442e-02, -4.54565268e-01,  7.13269607e-01,  5.23734291e-01,\n",
       "       -1.52831408e-01,  1.36002553e+00,  1.50890199e+00,  1.53304797e+00,\n",
       "       -7.18118607e-01, -4.91529768e-01, -7.21859102e-01, -1.29295654e+00,\n",
       "       -2.84475697e-01,  1.70693305e+00, -3.00386173e-01, -6.85938173e-02,\n",
       "        1.04048344e+00, -2.68297563e+00, -2.21540841e+00,  1.96315134e-01,\n",
       "       -3.27947363e-01,  7.91009905e-01, -1.13341416e+00,  5.09922589e-01,\n",
       "        4.63883851e-01,  2.07233783e-01,  9.88316641e-01, -3.92014883e-01,\n",
       "        6.90038843e-01, -7.18143531e-02,  5.82358418e-01, -4.88872425e-01,\n",
       "        6.08747055e-01,  4.61309148e-01,  1.74564210e+00, -3.48778274e-01,\n",
       "       -5.85545184e-04,  1.06588103e+00,  2.57973958e-01,  5.92657756e-01,\n",
       "        3.18422362e-01, -8.61498921e-01,  7.91490303e-01,  7.14390744e-01,\n",
       "        2.37446015e-01, -8.26724050e-01, -4.80378933e-01,  4.03586015e-01,\n",
       "       -5.14158324e-01, -1.63906298e+00, -5.04710254e-01, -1.84670072e-01,\n",
       "        6.59640411e-01,  6.27402776e-02, -7.25524221e-02,  8.34568474e-01,\n",
       "        1.20815669e+00,  6.71072136e-01,  1.71040091e+00, -1.01934845e-01,\n",
       "       -7.00022901e-01,  2.66556094e-01,  7.59085565e-02,  6.01075247e-01,\n",
       "       -1.86764802e+00,  9.93439989e-02, -2.00710862e+00, -8.20405293e-01,\n",
       "        5.61921411e-01, -2.12200573e-01,  2.47110263e+00,  2.07842117e-01,\n",
       "        2.87858289e-01, -9.39682388e-02, -7.75372007e-01,  1.66242034e+00,\n",
       "        6.40729536e-01,  5.59683707e-01,  8.94376375e-02,  7.02632679e-01,\n",
       "        6.02258066e-01, -3.15417887e-02,  9.52586074e-01, -7.22409587e-01,\n",
       "       -4.28679255e-01, -4.11651207e-01,  9.18263992e-03, -2.43121263e+00,\n",
       "        9.90335309e-02,  2.14050716e-01,  3.49396452e-01, -9.62957522e-02,\n",
       "       -3.35601555e-01,  6.79538503e-01, -1.74654641e+00, -7.38977182e-01,\n",
       "        5.65750427e-01, -1.72819637e+00,  1.86137141e+00,  6.89172648e-02,\n",
       "       -9.48627320e-01, -7.75927107e-01,  1.07853180e+00,  1.63011985e+00,\n",
       "       -7.53104640e-02,  2.05895851e+00, -3.42140015e-01,  3.08591695e-01,\n",
       "        8.73653886e-01, -1.00771200e+00, -1.19586402e+00,  1.47114566e+00,\n",
       "       -4.49655741e-01, -1.53495320e+00,  2.42452600e-02, -1.01577870e+00,\n",
       "        3.77580146e-01, -7.02054246e-01, -5.75705575e-01, -4.61903945e-01,\n",
       "        1.13713530e+00, -1.89492323e-01,  1.78218299e+00,  1.61006807e+00,\n",
       "        4.52464621e-02,  2.44603310e-01,  7.50857256e-02, -7.90561295e-01,\n",
       "        8.79880779e-01,  5.21131835e-01,  2.84763921e-02, -1.21648633e+00,\n",
       "        3.73487025e-01,  4.85009123e-01,  1.21635573e+00,  1.84917462e+00,\n",
       "        1.20676597e+00, -7.12837796e-01,  1.44777390e+00, -8.64598233e-01,\n",
       "        4.69350923e-01,  5.53236205e-01, -2.95125804e-01,  1.31811696e+00,\n",
       "       -1.51181493e+00,  3.07985237e-02, -7.52311497e-01, -3.96399984e-01,\n",
       "       -1.34509826e+00,  1.42748067e+00,  1.35961016e+00, -6.06541896e-01,\n",
       "       -7.96510256e-01, -8.71723288e-02,  6.91739677e-01,  2.76286589e-01,\n",
       "        2.06553109e+00,  4.05037197e-03, -6.82219515e-01,  3.68831113e-02,\n",
       "        1.21428019e-01,  6.88907524e-02,  3.25341047e-01,  1.99399449e+00,\n",
       "        3.87953754e-02,  5.86793162e-02,  1.29452080e+00,  1.96862440e-01,\n",
       "       -9.88907549e-01, -1.07941368e+00,  1.17513675e+00, -1.72104119e-01,\n",
       "       -1.98738022e+00, -2.10189552e-01,  4.64719767e-01,  5.38695441e-01,\n",
       "        2.72084840e-01,  7.23733959e-02, -3.56884749e-01,  1.33574965e+00,\n",
       "        3.99895647e-01, -6.96988688e-01, -4.33733495e-02, -2.89050447e-01,\n",
       "       -1.30308633e+00, -7.63088150e-01,  1.10920702e+00,  2.65487162e-01,\n",
       "        1.70444618e+00, -1.59598960e-01, -3.32926621e-01,  2.04926454e+00,\n",
       "       -2.99707224e-01, -6.88483526e-01,  2.87798217e-01, -3.49308264e-01,\n",
       "        1.19068757e-01, -1.58814323e+00, -2.09927978e+00, -1.33199007e+00,\n",
       "        1.24152028e+00,  7.23614408e-01, -6.26304832e-01, -8.98606335e-01,\n",
       "        5.85326867e-02,  8.65218823e-01, -1.29345922e+00, -7.33129492e-01,\n",
       "       -6.91092863e-01, -8.07667393e-02,  6.82106609e-01, -4.24096425e-01,\n",
       "        9.21853846e-01,  2.48298176e-01,  1.39193959e+00, -7.88615451e-01,\n",
       "        7.44983914e-01, -2.35783326e-01, -8.45998164e-01, -6.20721484e-01,\n",
       "       -5.89327082e-01,  1.70464279e-01,  1.63764135e+00,  2.23902110e-01,\n",
       "       -9.32617603e-01, -7.06228254e-01, -2.41694299e+00, -1.84482302e+00,\n",
       "        2.07902341e+00, -1.59418782e+00, -1.82837576e+00, -3.72502753e-01,\n",
       "        2.39145462e-01, -1.45325874e+00,  5.02483119e-01, -6.56047657e-01,\n",
       "        1.49978043e-01,  1.65906250e+00, -5.38105693e-01,  6.76614966e-01,\n",
       "       -3.01704363e-01,  7.01079473e-01, -1.08163585e+00, -2.53327992e-01,\n",
       "       -7.61817581e-01, -2.84191415e-01, -1.39700720e+00,  1.30018652e+00,\n",
       "        7.92304833e-02,  3.99403491e-01, -1.78066106e+00,  1.27104116e-01,\n",
       "        2.28060856e-01, -9.81362385e-02,  5.50918786e-02, -5.76188901e-01,\n",
       "       -7.92750551e-02, -2.79719139e-01, -9.82352416e-01,  1.21507713e-01,\n",
       "        2.57831696e-01, -4.80609218e-01, -1.93459660e+00, -5.27365422e-01,\n",
       "       -4.59475065e-01,  1.87872262e-01, -1.23140507e+00, -3.89807964e-01,\n",
       "       -6.20893102e-01, -2.36206995e+00, -2.01425357e-01,  5.46526430e-01,\n",
       "       -7.72046681e-01,  2.90908097e+00, -1.18612725e+00,  1.59063264e+00,\n",
       "        5.22714744e-01,  1.18130933e+00,  3.88800668e-01, -1.48949979e+00,\n",
       "        3.05064716e-01,  2.43243193e+00, -1.03934467e-01,  1.97313066e+00,\n",
       "       -1.02314247e+00,  5.05260335e-01, -6.65658227e-01, -3.23534216e+00,\n",
       "       -2.60992781e+00,  2.67890869e-01,  7.04573155e-01, -1.29982124e+00,\n",
       "       -1.56313512e+00, -1.08324436e+00, -8.16246457e-01,  1.44936841e-01,\n",
       "        1.38732240e+00,  1.27674908e+00,  9.52611268e-03,  3.44386683e-01,\n",
       "        8.13823514e-01,  1.30667635e+00,  1.51957506e+00, -1.56683173e+00,\n",
       "       -5.27764653e-01,  1.10207376e+00,  5.20972546e-01, -1.15851338e+00,\n",
       "        9.88664089e-01, -1.30784586e+00, -1.08566956e+00,  2.76560448e-01,\n",
       "        8.42828311e-01,  8.20854917e-01,  1.15401015e+00, -8.48177632e-01,\n",
       "        2.79470230e+00,  5.48601290e-01, -6.19143856e-02,  5.93065677e-01,\n",
       "        1.29557504e+00,  1.05367770e+00, -5.64283603e-01, -1.22510696e+00,\n",
       "       -1.80402286e+00,  1.66413338e+00,  1.92995322e-01, -2.87866056e-02,\n",
       "       -1.85371753e+00, -2.49760918e-01, -2.18051594e+00, -1.03638044e+00,\n",
       "        1.00222248e+00, -1.15401927e+00, -1.83698700e-01, -9.17436916e-01,\n",
       "        2.50907309e+00,  8.66800788e-01, -4.99340917e-01,  1.75660600e-01,\n",
       "        1.86798094e+00, -8.75749984e-01,  7.25316069e-01,  1.74615339e+00,\n",
       "        1.65385099e-01, -5.82764421e-01,  5.35942757e-01, -7.17743593e-01,\n",
       "        2.29612634e-01, -1.50909111e+00,  6.82293697e-01,  1.25119976e+00,\n",
       "       -9.47603737e-01,  1.19251408e-01,  2.67849363e+00,  3.27039763e-01,\n",
       "       -9.98479228e-01,  8.98302249e-01,  6.76179673e-01, -3.85830980e-01,\n",
       "        1.57721353e-01,  1.05650583e+00,  1.71200315e-02, -3.63342177e-02,\n",
       "       -6.52093685e-01, -3.57333613e-01,  8.36957294e-03, -2.02360288e+00,\n",
       "        6.76778138e-02, -3.01576076e-01, -7.56086692e-01, -4.70220762e-01,\n",
       "       -1.21241055e+00,  2.01374184e+00, -1.37089991e+00,  1.57409279e+00,\n",
       "       -1.08871331e+00, -1.13900063e-01, -1.59867849e+00,  3.67399327e-01,\n",
       "        4.59178519e-01, -1.12351954e+00, -7.05343484e-01, -7.08497330e-01,\n",
       "        1.26637708e-01, -1.39885732e+00,  3.83724479e-01, -1.46392549e+00,\n",
       "       -1.67331733e-01, -7.14824576e-01, -6.73985227e-01,  3.81173211e-01,\n",
       "       -6.78206278e-01,  7.22634149e-01,  1.31941974e+00,  8.82410940e-01,\n",
       "        6.14607624e-02,  7.98356508e-01,  6.59088899e-01, -6.92924278e-01,\n",
       "       -1.52874929e+00,  1.03713797e+00,  3.03991066e-02, -4.22229519e-01,\n",
       "       -7.43100621e-01,  7.09332163e-01, -6.11891539e-01,  3.76800015e-01,\n",
       "        1.17640365e+00,  1.19398630e+00, -5.15526730e-01, -4.21987725e-01,\n",
       "       -4.92397125e-01,  8.42094166e-01, -7.96512165e-01,  1.55614079e-01,\n",
       "        2.53291903e-01, -7.58638754e-01, -2.21041936e+00,  1.13892272e-01,\n",
       "       -1.39226478e+00,  8.67379516e-01,  1.02628202e+00,  2.23045013e-01,\n",
       "        8.91383935e-01,  8.11276137e-01,  6.02863929e-01, -1.42824786e+00,\n",
       "       -5.29777966e-01, -8.39809345e-01, -5.18608198e-01, -7.83561902e-01,\n",
       "       -7.70005349e-01,  1.62638177e+00,  1.83518287e-01,  1.31033665e-01,\n",
       "        7.80188802e-01, -7.93115961e-01,  7.50273251e-01, -1.75160762e-01,\n",
       "       -1.38595371e+00,  1.42983984e+00,  5.27422070e-01,  1.25779892e+00,\n",
       "       -6.28740075e-01,  6.11730637e-01,  1.38365291e+00, -2.72573246e-01,\n",
       "        1.09153917e+00,  5.99301256e-01,  5.45581496e-01, -7.54076419e-01,\n",
       "       -4.73812318e-02, -8.44519146e-01,  1.62529062e+00,  3.23454763e-01,\n",
       "        6.34331338e-01, -1.06422562e+00, -6.12023657e-01, -3.75305176e-02,\n",
       "       -1.51050191e+00, -2.84050563e-01,  4.12714322e-02, -7.96306552e-01,\n",
       "       -7.18816600e-01,  1.73940326e+00,  2.83530018e-01,  3.86642055e-01,\n",
       "       -1.51015449e+00, -1.48895349e-01, -6.82969721e-02,  4.02707993e-01,\n",
       "        1.28733247e-01,  1.20842699e+00,  1.07902399e+00,  1.62328737e-02,\n",
       "        1.18846405e+00,  1.08606590e-01, -1.19560596e+00,  9.21646982e-01,\n",
       "       -3.17320427e-01, -7.50155432e-01,  1.38078354e+00,  3.55425668e-01,\n",
       "       -5.79944351e-01,  1.48547014e+00,  4.66066691e-01,  3.28605121e-01,\n",
       "       -2.61089171e-01, -3.60090947e-01, -4.87423076e-01,  1.51893044e+00,\n",
       "        6.25995786e-02, -6.50764297e-01,  1.54273332e+00, -6.09002324e-01,\n",
       "       -8.01463397e-01,  9.70030604e-01,  8.63221955e-01, -1.18114429e+00,\n",
       "       -1.02573872e+00,  5.22499106e-01, -5.25567551e-01, -1.64317066e-01,\n",
       "        1.32343038e+00, -6.05629154e-01, -4.18665398e-01, -4.88319622e-01,\n",
       "        1.28572483e+00,  1.36623911e+00,  3.97560600e-01,  2.98611312e-01,\n",
       "        3.27749463e-01, -1.81856198e+00, -6.13546764e-01, -1.14548507e-01,\n",
       "       -1.04089081e+00,  4.28233009e-01, -9.11318476e-02, -7.06778567e-01,\n",
       "        1.02001665e+00, -2.28486965e+00,  1.02898976e+00,  7.75916019e-01,\n",
       "        1.93619785e-03, -1.24667594e-01, -5.09184853e-01, -7.18590285e-02,\n",
       "       -4.28961825e-01, -4.69559770e-01, -3.70855713e-01, -8.16000391e-01,\n",
       "       -4.27360034e-01,  4.85277092e-01,  1.62924115e+00, -7.43795763e-01,\n",
       "       -8.04020171e-01,  4.91565188e-01, -9.91292453e-02,  5.01108702e-02,\n",
       "       -7.90587984e-01,  3.37752872e-01, -4.38019881e-01,  2.25185433e-01,\n",
       "        1.78679220e+00, -1.73718163e+00,  1.14611749e+00,  6.01241825e-01,\n",
       "        7.84987838e-01,  4.90546515e-01,  1.43611352e-01, -3.74107872e-01,\n",
       "        8.56842235e-01,  1.50171324e+00, -4.67486053e-02, -6.37334593e-01,\n",
       "        8.17441224e-01,  1.27214875e-02,  1.93478711e+00,  1.28439944e-01,\n",
       "        4.43440958e-01,  2.59353450e-01, -6.15357851e-01,  1.09786372e+00,\n",
       "        1.84231421e+00, -1.90399459e+00, -1.24261848e+00, -5.51917111e-01,\n",
       "       -1.64060308e+00,  5.33649215e-01,  1.13084855e+00, -1.51405302e-01,\n",
       "        1.51916855e+00, -1.39900387e-01, -1.80706810e-01, -1.13039287e+00,\n",
       "       -2.52682619e-01, -1.03615381e+00,  7.83075620e-01,  5.41001944e-01,\n",
       "       -1.35913094e+00,  2.69862365e-01,  1.72842468e-01, -2.73420154e-01,\n",
       "       -1.14898625e+00,  1.44710131e+00,  1.87870629e-01,  6.26005025e-01,\n",
       "       -2.85138624e-01, -9.70246717e-01, -1.34108798e+00,  1.58669843e-02,\n",
       "       -3.28171018e-02, -1.69194040e+00, -6.20685603e-01,  1.67205996e+00,\n",
       "        1.35638043e+00, -3.30681319e-01, -7.11735251e-01, -1.93701860e-01,\n",
       "       -1.47925529e+00,  5.78945248e-02,  2.78032827e-01, -2.36299636e+00,\n",
       "        1.53635691e+00,  2.39805180e-01, -1.90710966e+00, -4.95611060e-01,\n",
       "       -1.94243501e+00, -6.04495734e-01,  2.49844494e-01, -6.53098345e-01,\n",
       "       -1.88837525e+00, -1.93657168e-01,  5.12380150e-01,  7.34649073e-01,\n",
       "        7.49448874e-01,  7.35815256e-01,  7.72033065e-01,  3.68850675e-01,\n",
       "       -9.33798628e-01,  4.04095613e-01,  2.68505082e-01, -1.96735675e-01,\n",
       "       -1.20840988e+00,  1.96979261e+00, -1.21137825e-01,  6.68264351e-01,\n",
       "       -2.41554005e-01, -5.78358022e-01,  5.25212881e-01,  6.87948805e-01,\n",
       "       -5.18847128e-01,  1.30622517e+00,  2.31444811e-01,  4.61744569e-01,\n",
       "        1.76451032e+00,  4.38599079e-01,  1.29523210e+00,  2.11336916e+00,\n",
       "       -1.12523056e+00,  1.22715703e+00,  6.69390880e-02,  5.90182979e-01,\n",
       "       -1.18299332e+00,  7.66605515e-02,  4.79820699e-01,  1.34034005e+00,\n",
       "       -6.94296929e-01,  1.80722664e+00, -1.12287208e+00, -3.11956910e-01,\n",
       "        5.99942519e-01, -1.33636909e+00,  1.71190417e+00, -5.00982995e-01,\n",
       "        2.42484678e-01,  1.39120629e-01,  8.78361878e-01,  5.66795739e-01,\n",
       "       -1.65355113e+00, -1.40107427e+00,  3.36170508e-03,  1.56806707e+00,\n",
       "       -1.30074217e+00,  3.33862539e-01, -4.75012541e-01, -2.61423847e+00,\n",
       "        1.47829135e+00, -6.81260889e-01, -1.19666144e+00,  1.99265594e-01,\n",
       "        4.60018887e-01, -1.66075592e+00, -4.24513914e-01,  4.78133543e-02,\n",
       "       -9.00980135e-01,  1.67189850e-01, -4.28269504e-01, -5.55695710e-01,\n",
       "       -8.74214951e-01,  9.39934644e-01,  1.52583440e+00,  9.54758825e-02,\n",
       "       -1.50163204e-01,  1.51198266e+00,  1.10482164e+00, -5.48418508e-01,\n",
       "       -5.77532002e-01, -4.71890868e-01, -7.75536434e-01, -1.93002505e+00,\n",
       "       -1.55835821e-01, -7.47086979e-01, -1.02079559e+00,  1.02716542e-01,\n",
       "        3.76314122e-01, -1.83041482e+00, -7.35184576e-01, -1.24178857e+00,\n",
       "       -1.26693586e+00,  1.93728152e-01, -1.22921723e+00, -1.32226875e+00])"
      ]
     },
     "execution_count": 129,
     "metadata": {},
     "output_type": "execute_result"
    }
   ],
   "source": [
    "x = np.random.normal(0,1,1000)\n",
    "x"
   ]
  },
  {
   "cell_type": "code",
   "execution_count": 130,
   "metadata": {},
   "outputs": [
    {
     "data": {
      "text/plain": [
       "-0.008754968156222603"
      ]
     },
     "execution_count": 130,
     "metadata": {},
     "output_type": "execute_result"
    }
   ],
   "source": [
    "np.mean(x)"
   ]
  },
  {
   "cell_type": "code",
   "execution_count": 131,
   "metadata": {},
   "outputs": [
    {
     "data": {
      "text/plain": [
       "0.981391873837298"
      ]
     },
     "execution_count": 131,
     "metadata": {},
     "output_type": "execute_result"
    }
   ],
   "source": [
    "np.std(x)"
   ]
  }
 ],
 "metadata": {
  "kernelspec": {
   "display_name": "Python 3",
   "language": "python",
   "name": "python3"
  },
  "language_info": {
   "codemirror_mode": {
    "name": "ipython",
    "version": 3
   },
   "file_extension": ".py",
   "mimetype": "text/x-python",
   "name": "python",
   "nbconvert_exporter": "python",
   "pygments_lexer": "ipython3",
   "version": "3.11.1"
  },
  "orig_nbformat": 4
 },
 "nbformat": 4,
 "nbformat_minor": 2
}
